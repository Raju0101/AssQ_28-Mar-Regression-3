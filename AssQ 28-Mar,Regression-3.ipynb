{
 "cells": [
  {
   "cell_type": "markdown",
   "id": "41909bab-3e5e-4aa5-8f8e-ea6b8dc322ec",
   "metadata": {},
   "source": [
    "# AssQ 28-March, Regression-3"
   ]
  },
  {
   "cell_type": "code",
   "execution_count": null,
   "id": "55115c7e-272f-43b6-8247-1a855f98b4d4",
   "metadata": {},
   "outputs": [],
   "source": [
    "Q1. What is Ridge Regression, and how does it differ from ordinary least squares regression?"
   ]
  },
  {
   "cell_type": "code",
   "execution_count": null,
   "id": "28dc9604-676e-4eca-b6dd-7a3c5d279f95",
   "metadata": {},
   "outputs": [],
   "source": [
    "Ridge regression is a term used to refer to a linear regression model whose coefficients are \n",
    "estimated not by ordinary least squares (OLS), but by an estimator, called ridge estimator,\n",
    "that, albeit biased, has lower variance than the OLS estimator.\n",
    "\n",
    "Linear Regression establishes a relationship between dependent variable (Y) and one or more independent \n",
    "variables (X) using a best fit straight line (also known as regression line). \n",
    "Ridge Regression is a technique used \n",
    "when the data suffers from multicollinearity ( independent variables are highly correlated).\n",
    "\n",
    "The researchers recommended the ridge regression method rather than OLS because it provides a better estimate than OLS \n",
    "when independent variables are related without omitting any of the independent variables."
   ]
  },
  {
   "cell_type": "code",
   "execution_count": null,
   "id": "41fc31a1-3071-4b24-a027-51b3c1a044b8",
   "metadata": {},
   "outputs": [],
   "source": []
  },
  {
   "cell_type": "code",
   "execution_count": null,
   "id": "9ac049d6-9ca9-429d-957c-2cb679c2ff9c",
   "metadata": {},
   "outputs": [],
   "source": [
    "Q2. What are the assumptions of Ridge Regression?"
   ]
  },
  {
   "cell_type": "code",
   "execution_count": null,
   "id": "fcb9dcc7-9503-4f07-9848-b65e8b081982",
   "metadata": {},
   "outputs": [],
   "source": [
    "The assumptions of ridge regression are the same as that of linear regression: linearity,\n",
    "constant variance, and independence. However, as ridge regression does not provide confidence limits,\n",
    "the distribution of errors to be normal need not be assumed.\n",
    "\n",
    "Ridge regression is a method of estimating the coefficients of multiple-regression models in\n",
    "scenarios where the independent variables are highly correlated.\n",
    "It has been used in many fields including econometrics, chemistry, and engineering.\n",
    "\n",
    "Ridge regression is an example of a shrinkage method: compared to least squares,\n",
    "it shrinks the parameter estimates in the hopes of reducing variance, \n",
    "improving prediction accuracy, and aiding interpetation.\n",
    "\n",
    "Ridge regression is popular because it uses regularization for making predictions and regularization \n",
    "is intended to resolve the problem of overfitting. In machine learning, feature engineering is an important step \n",
    "that determines the level of importance of any features from the data"
   ]
  },
  {
   "cell_type": "code",
   "execution_count": null,
   "id": "c073cca1-43a5-4840-8c7b-994208715ac1",
   "metadata": {},
   "outputs": [],
   "source": []
  },
  {
   "cell_type": "code",
   "execution_count": null,
   "id": "8e391c23-e3a3-4d4b-b9f7-03fdd52fc945",
   "metadata": {},
   "outputs": [],
   "source": [
    "Q3. How do you select the value of the tuning parameter (lambda) in Ridge Regression?"
   ]
  },
  {
   "cell_type": "code",
   "execution_count": null,
   "id": "2abc0baa-0209-4312-8d5d-884d65257c94",
   "metadata": {},
   "outputs": [],
   "source": [
    "Selecting a good value for λ is critical. When λ=0, the penalty term has no effect,\n",
    "and ridge regression will produce the classical least square coefficients. However, \n",
    "as λ increases to infinite, the impact of the shrinkage penalty grows,\n",
    "and the ridge regression coefficients will get close zero.\n",
    "\n",
    "When choosing a lambda value, the goal is to strike the right balance between simplicity and training-data fit:\n",
    "If your lambda value is too high, your model will be simple, but you run the risk of underfitting your data.\n",
    "Your model won't learn enough about the training data to make useful predictions.\n",
    "\n",
    "The value of lambda will be chosen by cross-validation. The plot shows cross-validated mean squared error.\n",
    "As lambda decreases, the mean squared error decreases. Ridge includes all the variables in \n",
    "the model and the value of lambda selected is indicated by the vertical lines."
   ]
  },
  {
   "cell_type": "code",
   "execution_count": null,
   "id": "f5037b0f-4ecc-40b4-a029-5337054df7bc",
   "metadata": {},
   "outputs": [],
   "source": []
  },
  {
   "cell_type": "code",
   "execution_count": null,
   "id": "054a3b71-26c2-4ad5-be9a-c0f23b1a5560",
   "metadata": {},
   "outputs": [],
   "source": [
    "Q4. Can Ridge Regression be used for feature selection? If yes, how?"
   ]
  },
  {
   "cell_type": "code",
   "execution_count": null,
   "id": "c36c42ba-345e-4281-a00b-f0aee0bd5b6b",
   "metadata": {},
   "outputs": [],
   "source": [
    "we have seen that ridge regression is used to get rid of overfitting which can also be reduced by\n",
    "fitting the model with only important features.\n",
    "Ridge regression can also help us in feature selection to find out the important features\n",
    "required for modelling purposes.\n",
    "\n",
    "The cost function for both ridge and lasso regression are similar. However, ridge regression \n",
    "takes the square of the coefficients and lasso takes the magnitude. Lasso regression can be used \n",
    "for automatic feature selection, as the geometry of its constrained region allows coefficient values to inert to zero."
   ]
  },
  {
   "cell_type": "code",
   "execution_count": null,
   "id": "108ac931-ad32-428c-a402-f2d23128be4e",
   "metadata": {},
   "outputs": [],
   "source": []
  },
  {
   "cell_type": "code",
   "execution_count": null,
   "id": "ed5bfe44-acf8-4f7a-9577-cac58518ddf0",
   "metadata": {},
   "outputs": [],
   "source": [
    "Q5. How does the Ridge Regression model perform in the presence of multicollinearity?"
   ]
  },
  {
   "cell_type": "code",
   "execution_count": null,
   "id": "230dcd28-b66f-4123-9657-9e122dc25462",
   "metadata": {},
   "outputs": [],
   "source": [
    "Multicollinearity happens when predictor variables exhibit a correlation among themselves.\n",
    "Ridge regression aims at reducing the standard error by adding some bias in the estimates of the regression.\n",
    "The reduction of the standard error in regression estimates significantly increases the reliability of the estimates.\n",
    "\n",
    "Ridge regression is a model tuning method that is used to analyse any data that suffers from multicollinearity. \n",
    "This method performs L2 regularization. When the issue of multicollinearity occurs, least-squares are unbiased,\n",
    "and variances are large, this results in predicted values being far away from the actual values.\n",
    "\n",
    "Multicollinearity happens when predictor variables exhibit a correlation among themselves. \n",
    "Ridge regression aims at reducing the standard error by adding some bias in the estimates of the regression. \n",
    "The reduction of the standard error in regression estimates significantly increases the reliability of the estimates."
   ]
  },
  {
   "cell_type": "code",
   "execution_count": null,
   "id": "a80995ff-d688-4963-8894-17768656f03e",
   "metadata": {},
   "outputs": [],
   "source": []
  },
  {
   "cell_type": "code",
   "execution_count": null,
   "id": "3396e2dd-e245-4e88-a53c-c94698232ae3",
   "metadata": {},
   "outputs": [],
   "source": [
    "Q6. Can Ridge Regression handle both categorical and continuous independent variables?"
   ]
  },
  {
   "cell_type": "code",
   "execution_count": null,
   "id": "baa11f35-48c1-4a31-8a42-eec35b6f661e",
   "metadata": {},
   "outputs": [],
   "source": [
    "Ridge regression is used for regression purpose only as it needs the dependent variable to be continuous.\n",
    "So for your analysis Ridge regression can't be used.\n",
    "\n",
    "Can you use ridge regression with a continuous outcome? Yes! If you introduce a L2 penalty to a standard linear\n",
    "regression model then you will have a ridge\n",
    "\n",
    "Categorical variables require special attention in regression analysis because, unlike dichotomous or\n",
    "continuous variables, they cannot by entered into the regression equation just as they are. \n",
    "Instead, they need to be recoded into a series of variables which can then be entered into the regression model.\n",
    "\n",
    "Special characteristic of Ridge regression is \n",
    "it works fine in presence of multicollinearity but with a continuous dependent variable."
   ]
  },
  {
   "cell_type": "code",
   "execution_count": null,
   "id": "46148406-1319-4f28-8616-2e754de22d3a",
   "metadata": {},
   "outputs": [],
   "source": []
  },
  {
   "cell_type": "code",
   "execution_count": null,
   "id": "98c308fd-a4b6-4353-9e11-5161a18abe1a",
   "metadata": {},
   "outputs": [],
   "source": [
    "Q7. How do you interpret the coefficients of Ridge Regression?"
   ]
  },
  {
   "cell_type": "code",
   "execution_count": null,
   "id": "3581b9cf-1913-436d-b20e-d531936e8c96",
   "metadata": {},
   "outputs": [],
   "source": [
    "The ridge coefficients are a reduced factor of the simple linear regression coefficients and thus never \n",
    "attain zero values but very small values. The lasso coefficients become zero in a certain range and are\n",
    "reduced by a constant factor, which explains their low magnitude in comparison to the ridge.\n",
    "\n",
    "Ridge regression shrinks all regression coefficients towards zero; the lasso tends to give a set of zero \n",
    "regression coefficients and leads to a sparse solution. Note that for both ridge regression and the lasso\n",
    "the regression coefficients can move from positive to negative values as they are shrunk toward zero."
   ]
  },
  {
   "cell_type": "code",
   "execution_count": null,
   "id": "a36869d2-3715-428a-a777-60309e37aed2",
   "metadata": {},
   "outputs": [],
   "source": []
  },
  {
   "cell_type": "code",
   "execution_count": null,
   "id": "584e52b2-90b5-44cb-9e16-518244630758",
   "metadata": {},
   "outputs": [],
   "source": [
    "Q8. Can Ridge Regression be used for time-series data analysis? If yes, how?"
   ]
  },
  {
   "cell_type": "code",
   "execution_count": null,
   "id": "2ca261df-c2de-4aaa-b927-0327dbaf3c5a",
   "metadata": {},
   "outputs": [],
   "source": [
    "The ridge regression technique can be used to predict time-series. \n",
    "Ridge regression (RR) can also solve the multicollinearity problem that exists in linear regression."
   ]
  }
 ],
 "metadata": {
  "kernelspec": {
   "display_name": "Python 3 (ipykernel)",
   "language": "python",
   "name": "python3"
  },
  "language_info": {
   "codemirror_mode": {
    "name": "ipython",
    "version": 3
   },
   "file_extension": ".py",
   "mimetype": "text/x-python",
   "name": "python",
   "nbconvert_exporter": "python",
   "pygments_lexer": "ipython3",
   "version": "3.10.6"
  }
 },
 "nbformat": 4,
 "nbformat_minor": 5
}
